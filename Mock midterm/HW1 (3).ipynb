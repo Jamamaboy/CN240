{
  "cells": [
    {
      "cell_type": "markdown",
      "metadata": {
        "id": "nG03xtmpMWjt"
      },
      "source": [
        "# HW1: Pandas Basic\n",
        "## Due date: 30/08/2024 - 23:59."
      ]
    },
    {
      "cell_type": "markdown",
      "metadata": {
        "id": "NYE3KC0IHSq0"
      },
      "source": [
        "Datasets (check github [HW1.zip](https://github.com/yongsa-nut/TU_CN240_DataScience_671/blob/main/Data/HW%201%20Data.zip)) in this homework:\n",
        "- babyname_CA.TXT\n",
        "- winemag-data-130k-v2\n",
        "\n",
        "25 questions in total. 0.2 points each. 5 points in total."
      ]
    },
    {
      "cell_type": "markdown",
      "metadata": {
        "id": "cRtrcFeKNK8J"
      },
      "source": [
        "การบ้านแบ่งเป็นสองส่วน ส่วนแรกจะเป็น Review เรื่องที่เรียน (ภาษาอังกฤษ) ส่วนที่สองจะเป็นการบ้านที่คุณจะต้องทำ\n",
        "\n",
        "เรื่องที่จะเรียนรู้ในการบ้านนี้มีดังต่อไปนี้\n",
        "- Creating `DataFrame`\n",
        "- Slicing, indexing `DataFrame`\n",
        "- Filtering Data (using Boolean Array)\n",
        "- Groupby\n",
        "\n",
        "การบ้านอาจจะดูยาว แต่มันประกอบไปด้วย tutorial ที่จะช่วยไกด์อยู่"
      ]
    },
    {
      "cell_type": "markdown",
      "metadata": {
        "id": "S0Idoi_6fhNO"
      },
      "source": [
        "Let's start by import pandas"
      ]
    },
    {
      "cell_type": "code",
      "execution_count": 1,
      "metadata": {
        "id": "K6aCE_teNxOJ"
      },
      "outputs": [
        {
          "ename": "ModuleNotFoundError",
          "evalue": "No module named 'pandas'",
          "output_type": "error",
          "traceback": [
            "\u001b[0;31m---------------------------------------------------------------------------\u001b[0m",
            "\u001b[0;31mModuleNotFoundError\u001b[0m                       Traceback (most recent call last)",
            "Cell \u001b[0;32mIn[1], line 1\u001b[0m\n\u001b[0;32m----> 1\u001b[0m \u001b[38;5;28;01mimport\u001b[39;00m \u001b[38;5;21;01mpandas\u001b[39;00m \u001b[38;5;28;01mas\u001b[39;00m \u001b[38;5;21;01mpd\u001b[39;00m\n",
            "\u001b[0;31mModuleNotFoundError\u001b[0m: No module named 'pandas'"
          ]
        }
      ],
      "source": [
        "import pandas as pd"
      ]
    },
    {
      "cell_type": "markdown",
      "metadata": {
        "id": "kapzYGiAOCeY"
      },
      "source": [
        "### **REVIEW:** Creating `DataFrames` & Basic Manipulations\n",
        "\n",
        "[DataFrame](https://pandas.pydata.org/pandas-docs/stable/user_guide/dsintro.html#dataframe) is a table in which each column has a specific data type; there is an index over the columns (typically string labels) and an index over the rows (typically integers).\n",
        "\n",
        "Usually, you'll create `DataFrames` by using a function like `pd.read_csv`.\n",
        "\n",
        "However, in this section, we'll discuss how to create them from scratch.\n",
        "\n",
        "**As part of the homework, please run every code below.**\n",
        "\n",
        "The [documentation](https://pandas.pydata.org/pandas-docs/stable/reference/api/pandas.DataFrame.html) for the `pandas` `DataFrame` class provides several constructors for the `DataFrame` class."
      ]
    },
    {
      "cell_type": "markdown",
      "metadata": {
        "id": "c01SDjs8OOts"
      },
      "source": [
        "**Syntax 1:** You can create a `DataFrame` by specifying the columns and values using a dictionary, as shown below. (See others in the slide)\n",
        "\n",
        "keys = column names and values = lists containing the row entries."
      ]
    },
    {
      "cell_type": "code",
      "execution_count": null,
      "metadata": {
        "id": "MSsJm0STOQ4d"
      },
      "outputs": [],
      "source": [
        "fruit_info = pd.DataFrame(\n",
        "    data = {'fruit': ['apple', 'orange', 'banana', 'raspberry'],\n",
        "          'color': ['red', 'orange', 'yellow', 'pink'],\n",
        "          'price': [1.0, 0.75, 0.35, 0.05]\n",
        "          })\n",
        "fruit_info"
      ]
    },
    {
      "cell_type": "markdown",
      "metadata": {
        "id": "1WElgWiiOrGI"
      },
      "source": [
        "You can obtain the dimensions of a `DataFrame` by using the shape attribute `DataFrame.shape`."
      ]
    },
    {
      "cell_type": "code",
      "execution_count": null,
      "metadata": {
        "id": "vM_WUStkOqp4"
      },
      "outputs": [],
      "source": [
        "fruit_info.shape"
      ]
    },
    {
      "cell_type": "markdown",
      "metadata": {
        "id": "1Ex9793WO5uf"
      },
      "source": [
        "### **REVIEW:** Selecting Rows and Columns in `pandas`"
      ]
    },
    {
      "cell_type": "markdown",
      "metadata": {
        "id": "wSxfmweAO8ab"
      },
      "source": [
        "**Approach 1:** `loc`"
      ]
    },
    {
      "cell_type": "markdown",
      "metadata": {
        "id": "IiUBHaE_O-DM"
      },
      "source": [
        "`loc` takes two arguments.\n",
        "\n",
        "- The first is one or more **row labels**.\n",
        "- The second is one or more **column labels**.\n",
        "\n",
        "These are not the same as positional indices, which are used for indexing Python lists!\n",
        "\n",
        "The desired rows or columns can be provided individually, in slice notation, or as a list. Some examples are given below.\n",
        "\n",
        "Note that **slicing in `loc` is inclusive** on the provided labels."
      ]
    },
    {
      "cell_type": "code",
      "execution_count": null,
      "metadata": {
        "id": "T_n8Pt1nPIZ8"
      },
      "outputs": [],
      "source": [
        "# Get rows 0 through 2 (inclusive) with labels 'fruit' through 'price' (which would include the color column that is in between both labels)\n",
        "fruit_info.loc[0:2, 'fruit':'price']"
      ]
    },
    {
      "cell_type": "code",
      "execution_count": null,
      "metadata": {
        "id": "szLln_eXPJmw"
      },
      "outputs": [],
      "source": [
        "# Get rows 0 through 2 (inclusive) and columns 'fruit' and 'price'.\n",
        "# Note the difference in notation and result from the previous example.\n",
        "fruit_info.loc[0:2, ['fruit', 'price']]"
      ]
    },
    {
      "cell_type": "code",
      "execution_count": null,
      "metadata": {
        "id": "5aEhd5YbPKxO"
      },
      "outputs": [],
      "source": [
        "# Get rows 0 and 2 and columns fruit and price.\n",
        "fruit_info.loc[[0, 2], ['fruit', 'price']]"
      ]
    },
    {
      "cell_type": "code",
      "execution_count": null,
      "metadata": {
        "id": "-uqAVH_SPLot"
      },
      "outputs": [],
      "source": [
        "# Get rows 0 and 2 and column fruit\n",
        "fruit_info.loc[[0, 2], ['fruit']]"
      ]
    },
    {
      "cell_type": "markdown",
      "metadata": {
        "id": "QfQIL_2JPNq9"
      },
      "source": [
        "Note that if we request a single column but don't enclose it in a list, the return type of the `loc` operator is a `Series` rather than a `DataFrame`."
      ]
    },
    {
      "cell_type": "code",
      "execution_count": null,
      "metadata": {
        "id": "2MgOW4LtPPku"
      },
      "outputs": [],
      "source": [
        "# Get rows 0 and 2 and column fruit, returning the result as a Series\n",
        "fruit_info.loc[[0, 2], 'fruit']"
      ]
    },
    {
      "cell_type": "markdown",
      "metadata": {
        "id": "4GrOt71bPSPI"
      },
      "source": [
        "If we provide only one argument to `loc`, it uses the provided argument to select rows, and returns all columns."
      ]
    },
    {
      "cell_type": "code",
      "execution_count": null,
      "metadata": {
        "id": "FOtRilBRPTLP"
      },
      "outputs": [],
      "source": [
        "fruit_info.loc[0:1]"
      ]
    },
    {
      "cell_type": "markdown",
      "metadata": {
        "id": "SEWdjfDCPXuF"
      },
      "source": [
        "Note that if you try to access columns without providing rows, `loc` will crash."
      ]
    },
    {
      "cell_type": "code",
      "execution_count": null,
      "metadata": {
        "id": "js1tnFGiPXUT"
      },
      "outputs": [],
      "source": [
        "# Uncomment, this code will crash\n",
        "#fruit_info.loc[[\"fruit\", \"price\"]]\n",
        "\n",
        "# Uncomment, this code works fine:\n",
        "#fruit_info.loc[:, [\"fruit\", \"price\"]]"
      ]
    },
    {
      "cell_type": "markdown",
      "metadata": {
        "id": "XfTQbIVzPbWU"
      },
      "source": [
        "<br/>\n",
        "\n",
        "**Approach 2:** `iloc`\n",
        "\n",
        "`iloc` is very similar to `loc` except that its arguments are **row numbers** and **column numbers**, rather than row and column labels. A useful mnemonic is that the `i` stands for \"integer\".\n",
        "\n",
        "In addition, **slicing for `iloc` is exclusive** on the provided integer indices. Some examples are given below:"
      ]
    },
    {
      "cell_type": "code",
      "execution_count": null,
      "metadata": {
        "id": "5Df1mLDOPbKY"
      },
      "outputs": [],
      "source": [
        "# Get rows 0 through 3 (exclusive) and columns 0 through 3 (exclusive)\n",
        "fruit_info.iloc[0:3, 0:3]"
      ]
    },
    {
      "cell_type": "code",
      "execution_count": null,
      "metadata": {
        "id": "Wi1w7utRPmno"
      },
      "outputs": [],
      "source": [
        "# Get rows 0 through 3 (exclusive) and columns 0 and 2.\n",
        "fruit_info.iloc[0:3, [0, 2]]"
      ]
    },
    {
      "cell_type": "code",
      "execution_count": null,
      "metadata": {
        "id": "_nuL-3zYPniS"
      },
      "outputs": [],
      "source": [
        "# Get rows 0 and 2 and columns 0 and 2.\n",
        "fruit_info.iloc[[0, 2], [0, 2]]"
      ]
    },
    {
      "cell_type": "code",
      "execution_count": null,
      "metadata": {
        "id": "JOJ-1ytaPoaA"
      },
      "outputs": [],
      "source": [
        "# Get rows 0 and 2 and column fruit\n",
        "fruit_info.iloc[[0, 2], [0]]"
      ]
    },
    {
      "cell_type": "code",
      "execution_count": null,
      "metadata": {
        "id": "AaP0ImKQPpJW"
      },
      "outputs": [],
      "source": [
        "# Get rows 0 and 2 and column fruit\n",
        "fruit_info.iloc[[0, 2], 0]"
      ]
    },
    {
      "cell_type": "markdown",
      "metadata": {
        "id": "Rcqf3cllPs3L"
      },
      "source": [
        "Note that in these `loc` and `iloc` examples above, the row **label** and row **number** were always the same.\n",
        "\n",
        "Let's see an example where they are different. If we sort our fruits by price, we get:"
      ]
    },
    {
      "cell_type": "code",
      "execution_count": null,
      "metadata": {
        "id": "4vddI86TPv1U"
      },
      "outputs": [],
      "source": [
        "fruit_info_sorted = fruit_info.sort_values(\"price\")\n",
        "fruit_info_sorted"
      ]
    },
    {
      "cell_type": "markdown",
      "metadata": {
        "id": "kDQItO9fPxhe"
      },
      "source": [
        "After sorting, note how row number 0 now has index label 3, row number 1 now has index label 2, etc. These indices are the arbitrary numerical indices generated when we created the `DataFrame`. For example, `banana` was originally in row 2, and so it has row label 2. Note the distinction between the index _label_, and the actual index _position_."
      ]
    },
    {
      "cell_type": "markdown",
      "metadata": {
        "id": "qjjo8nM-P3Ce"
      },
      "source": [
        "If we request the rows in positions 0 and 2 using `iloc`, we're indexing using the row NUMBERS, not labels."
      ]
    },
    {
      "cell_type": "code",
      "execution_count": null,
      "metadata": {
        "id": "mV2E2FTAP3z_"
      },
      "outputs": [],
      "source": [
        "fruit_info_sorted.iloc[[0, 2], 0]"
      ]
    },
    {
      "cell_type": "markdown",
      "metadata": {
        "id": "SwvApRQJP4_8"
      },
      "source": [
        "Lastly, similar to `loc`, the second argument to `iloc` is optional. That is, if you provide only one argument to `iloc`, it treats the argument you provide as a set of desired row numbers, not column numbers."
      ]
    },
    {
      "cell_type": "code",
      "execution_count": null,
      "metadata": {
        "id": "gREF__MaP59J"
      },
      "outputs": [],
      "source": [
        "fruit_info_sorted.iloc[[0, 2]]"
      ]
    },
    {
      "cell_type": "markdown",
      "metadata": {
        "id": "EjHRdzDSP75q"
      },
      "source": [
        "**Approach 3:** `[]` Notation for Accessing Rows and Columns"
      ]
    },
    {
      "cell_type": "markdown",
      "metadata": {
        "id": "PDtyfav4P9X8"
      },
      "source": [
        "`pandas` also supports the `[]` operator. It's similar to `loc` in that it lets you access rows and columns by their name.\n",
        "\n",
        "However, unlike `loc`, which takes row names and also optionally column names, `[]` is more flexible.\n",
        "\n",
        "- If you provide it only row names (numbers), it'll give you rows (same behavior as `loc`).\n",
        "\n",
        "- If you provide it with only column names, it'll give you columns (whereas `loc` will crash).\n",
        "\n",
        "Some examples:"
      ]
    },
    {
      "cell_type": "code",
      "execution_count": null,
      "metadata": {
        "id": "L9ee_gKiP9B4"
      },
      "outputs": [],
      "source": [
        "fruit_info[0:2]"
      ]
    },
    {
      "cell_type": "code",
      "execution_count": null,
      "metadata": {
        "id": "qTEYJh4VQHyt"
      },
      "outputs": [],
      "source": [
        "# Here we're providing a list of fruits as single argument to []\n",
        "fruit_info[[\"fruit\", \"color\", \"price\"]]"
      ]
    },
    {
      "cell_type": "markdown",
      "metadata": {
        "id": "31MnAqoLQKgX"
      },
      "source": [
        "Note that slicing notation is not supported for columns if you use `[]` notation. Use `loc` instead."
      ]
    },
    {
      "cell_type": "code",
      "execution_count": null,
      "metadata": {
        "id": "uP49LzzrQLQy"
      },
      "outputs": [],
      "source": [
        "# Uncomment and this code crashes\n",
        "#fruit_info[\"fruit\":\"price\"]\n",
        "\n",
        "# Uncomment and this works fine\n",
        "#fruit_info.loc[:, \"fruit\":\"price\"]"
      ]
    },
    {
      "cell_type": "markdown",
      "metadata": {
        "id": "iqCkUaEm4sVJ"
      },
      "source": [
        "**Approach 4**: `.` Notation for Accessing a column\n",
        "\n",
        "- **Syntax**: `df.column_name` to access the column name"
      ]
    },
    {
      "cell_type": "code",
      "execution_count": null,
      "metadata": {
        "id": "DXaGBjUl44Wt"
      },
      "outputs": [],
      "source": [
        "fruit_info.fruit"
      ]
    },
    {
      "cell_type": "markdown",
      "metadata": {
        "id": "9AOB6d1xQSuR"
      },
      "source": [
        "\n",
        "---\n",
        "\n"
      ]
    },
    {
      "cell_type": "markdown",
      "metadata": {
        "id": "0k4CU6TNQY8C"
      },
      "source": [
        "### Question 1a\n",
        "\n",
        "For a `DataFrame` `d`, you can add a column with `d['new column name'] = ...` and assign a `list` or `array` of values to the column.\n",
        "\n",
        "Add a column of integers containing 1, 2, 3, and 4 called `rank1` to the `fruit_info` table, which expresses **your personal preference** about the taste ordering for each fruit (1 is tastiest; 4 is least tasty). There is no right order, it is completely your choice of rankings.\n"
      ]
    },
    {
      "cell_type": "code",
      "execution_count": null,
      "metadata": {
        "id": "XSWWaa4FQocm"
      },
      "outputs": [],
      "source": [
        "...                  # Fill in your code here\n",
        "fruit_info"
      ]
    },
    {
      "cell_type": "markdown",
      "metadata": {
        "id": "XPhl0RwhTnVr"
      },
      "source": [
        "<br/>\n",
        "\n",
        "---\n",
        "\n",
        "### Question 1b\n",
        "\n",
        "You can also add a column to `d` with `d.loc[:, 'new column name'] = ...`. As above, the first parameter is for the rows, and the second is for columns. The `:` means changing all rows, and the `'new column name'` indicates the name of the column you are modifying (or, in this case, adding).\n",
        "\n",
        "Add a column called `rank2` to the `fruit_info` table, which contains the same values in the same order as the `rank1` column.\n"
      ]
    },
    {
      "cell_type": "code",
      "execution_count": null,
      "metadata": {
        "id": "e5b59BeqTqg9"
      },
      "outputs": [],
      "source": [
        "...\n",
        "fruit_info"
      ]
    },
    {
      "cell_type": "markdown",
      "metadata": {
        "id": "fdQA8hm3T1C3"
      },
      "source": [
        "<br/>\n",
        "\n",
        "---\n",
        "\n",
        "### Question 1c\n",
        "\n",
        "Use the `.drop()` method to [drop](https://pandas.pydata.org/pandas-docs/stable/reference/api/pandas.DataFrame.drop.html) both the `rank1` and `rank2` columns you created. Make sure to use the `axis` parameter correctly.\n",
        "\n",
        "Note that `drop` does not change a table but instead **returns a new table** with fewer columns or rows unless you set the optional `inplace` argument.\n",
        "\n",
        "**Hint:** Look through the [documentation](https://pandas.pydata.org/docs/reference/api/pandas.DataFrame.drop.html) to see how you can drop multiple columns of a `DataFrame` at once using a list of column names.\n"
      ]
    },
    {
      "cell_type": "code",
      "execution_count": null,
      "metadata": {
        "id": "dlslZmZlT4RW"
      },
      "outputs": [],
      "source": [
        "fruit_info_original = ...\n",
        "fruit_info_original"
      ]
    },
    {
      "cell_type": "markdown",
      "metadata": {
        "id": "nNggSFc6UBNs"
      },
      "source": [
        "<br/>\n",
        "\n",
        "---\n",
        "\n",
        "### Question 1d\n",
        "\n",
        "Use the `.rename()` method to rename the columns of `fruit_info_original` so they begin with capital letters. Set this new `DataFrame` to `fruit_info_caps`.\n",
        "\n",
        "For an example of how to use rename, see this linked [documentation](https://pandas.pydata.org/pandas-docs/stable/reference/api/pandas.DataFrame.rename.html)."
      ]
    },
    {
      "cell_type": "code",
      "execution_count": null,
      "metadata": {
        "id": "XCxLDIIVUDhi"
      },
      "outputs": [],
      "source": [
        "...\n",
        "fruit_info_caps"
      ]
    },
    {
      "cell_type": "markdown",
      "metadata": {
        "id": "lFz9gRqUc7E2"
      },
      "source": [
        "<br/>\n",
        "\n",
        "### Creating your own DataFrame"
      ]
    },
    {
      "cell_type": "markdown",
      "metadata": {
        "id": "PtLCArr9dBzp"
      },
      "source": [
        "### Question 2a\n",
        "\n",
        "In the cell below, create a DataFrame `fruits` that looks like this:\n",
        "\n",
        "![](https://storage.googleapis.com/kaggle-media/learn/images/Ax3pp2A.png)"
      ]
    },
    {
      "cell_type": "code",
      "execution_count": null,
      "metadata": {
        "id": "ABp41PO6dKgJ"
      },
      "outputs": [],
      "source": [
        "fruits = ...\n",
        "fruits"
      ]
    },
    {
      "cell_type": "markdown",
      "metadata": {
        "id": "CO6nS0k2dOpG"
      },
      "source": [
        "### Question 2b\n",
        "\n",
        "Create a dataframe `fruit_sales` that matches the diagram below:\n",
        "\n",
        "![](https://storage.googleapis.com/kaggle-media/learn/images/CHPn7ZF.png)"
      ]
    },
    {
      "cell_type": "code",
      "execution_count": null,
      "metadata": {
        "id": "Sku-54ULdSBt"
      },
      "outputs": [],
      "source": [
        "fruit_sales = ...\n",
        "fruit_sales"
      ]
    },
    {
      "cell_type": "markdown",
      "metadata": {
        "id": "Z4RtX79zdaAX"
      },
      "source": [
        "### Question 2c\n",
        "\n",
        "Create a variable `ingredients` with a Series that looks like:\n",
        "\n",
        "```\n",
        "Flour     4 cups\n",
        "Milk       1 cup\n",
        "Eggs     2 large\n",
        "Spam       1 can\n",
        "Name: Dinner, dtype: object\n",
        "```"
      ]
    },
    {
      "cell_type": "code",
      "execution_count": null,
      "metadata": {
        "id": "-p9tNsgXddDL"
      },
      "outputs": [],
      "source": [
        "ingredients = ...\n",
        "ingredients"
      ]
    },
    {
      "cell_type": "markdown",
      "metadata": {
        "id": "I6FPc-8EVKlx"
      },
      "source": [
        "<br/>\n",
        "\n",
        "### Babynames Dataset\n",
        "For the next few questions, we'll be using the babynames dataset. The babynames dataset contains a record of the given names of babies born in the United States each year.\n",
        "\n",
        "Let's run the following cells to build the `DataFrame` `babynames`.\n",
        "**Note**: You will need to upload the data first!\n"
      ]
    },
    {
      "cell_type": "code",
      "execution_count": null,
      "metadata": {
        "id": "9niApuZqXPBK"
      },
      "outputs": [],
      "source": [
        "file_path = '/content/babyname_CA.TXT'\n",
        "column_labels = ['State', 'Sex', 'Year', 'Name', 'Count']\n",
        "\n",
        "babynames = pd.read_csv(file_path, names=column_labels)"
      ]
    },
    {
      "cell_type": "markdown",
      "metadata": {
        "id": "uL8zZr6kXY1C"
      },
      "source": [
        "Let's explore the dataset first."
      ]
    },
    {
      "cell_type": "code",
      "execution_count": null,
      "metadata": {
        "id": "V4RoaHivXcnB"
      },
      "outputs": [],
      "source": [
        "babynames.head()"
      ]
    },
    {
      "cell_type": "code",
      "execution_count": null,
      "metadata": {
        "id": "D-eJJkDEXdlt"
      },
      "outputs": [],
      "source": [
        "babynames.shape   # Should be (413894, 5)"
      ]
    },
    {
      "cell_type": "markdown",
      "metadata": {
        "id": "-a1nyqsPXmu8"
      },
      "source": [
        "#### Selection Examples on Baby Names\n",
        "\n",
        "As with our synthetic fruit dataset, we can use `loc` and `iloc` to select rows and columns of interest from our dataset."
      ]
    },
    {
      "cell_type": "code",
      "execution_count": null,
      "metadata": {
        "id": "p9uEexF-XqDq"
      },
      "outputs": [],
      "source": [
        "babynames.loc[2:5, 'Name']"
      ]
    },
    {
      "cell_type": "markdown",
      "metadata": {
        "id": "K_zELsRnXrqn"
      },
      "source": [
        "Notice the difference between the following cell and the previous one; just passing in `'Name'` returns a `Series` while `['Name']` returns a `DataFrame`."
      ]
    },
    {
      "cell_type": "code",
      "execution_count": null,
      "metadata": {
        "id": "lFP9jIpRXsxs"
      },
      "outputs": [],
      "source": [
        "babynames.loc[2:5, ['Name']]"
      ]
    },
    {
      "cell_type": "markdown",
      "metadata": {
        "id": "0ievbUhvXuIX"
      },
      "source": [
        "The code below collects the rows in positions 1 through 3, and the column in position 3 (\"Name\")."
      ]
    },
    {
      "cell_type": "code",
      "execution_count": null,
      "metadata": {
        "id": "EbRr5uUwXrPe"
      },
      "outputs": [],
      "source": [
        "babynames.iloc[1:4, [3]]"
      ]
    },
    {
      "cell_type": "markdown",
      "metadata": {
        "id": "Y37E4nFsX03z"
      },
      "source": [
        "<br/>\n",
        "\n",
        "---\n",
        "\n",
        "### Question 3a\n",
        "\n",
        "Use `.loc` to select `Name` and `Year` **in that order** from the `babynames` table.\n"
      ]
    },
    {
      "cell_type": "code",
      "execution_count": null,
      "metadata": {
        "id": "74SJsOiSX3m-"
      },
      "outputs": [],
      "source": [
        "name_and_year = ...\n",
        "name_and_year[:5]"
      ]
    },
    {
      "cell_type": "markdown",
      "metadata": {
        "id": "NS70oh-UX5vj"
      },
      "source": [
        "<br/>\n",
        "\n",
        "---\n",
        "\n",
        "### Question 3b\n",
        "Now repeat the same selection using the plain `[]` notation."
      ]
    },
    {
      "cell_type": "code",
      "execution_count": null,
      "metadata": {
        "id": "EAwPpdCAX7xl"
      },
      "outputs": [],
      "source": [
        "name_and_year = ...\n",
        "name_and_year[:5]"
      ]
    },
    {
      "cell_type": "markdown",
      "metadata": {
        "id": "JF_8E-WWX9yb"
      },
      "source": [
        "### **REVIEW**: Filtering with boolean arrays\n",
        "\n",
        "Filtering is the process of removing unwanted entries.\n",
        "\n",
        "In your quest for cleaner data, you will undoubtedly filter your data at some point: whether it be for clearing up cases with missing values, for culling out fishy outliers, or for analyzing subgroups of your dataset.\n",
        "\n",
        "Example usage looks like `df[df['column name'] < 5]`.\n",
        "\n",
        "For your reference, some commonly used comparison operators are given below.\n",
        "\n",
        "Symbol | Usage      | Meaning\n",
        "------ | ---------- | -------------------------------------\n",
        "==   | a == b   | Does a equal b?\n",
        "<=   | a <= b   | Is a less than or equal to b?\n",
        "&gt;=   | a >= b   | Is a greater than or equal to b?\n",
        "<    | a < b    | Is a less than b?\n",
        "&#62;    | a &#62; b    | Is a greater than b?\n",
        "~    | ~p       | Returns negation of p\n",
        "&#124; | p &#124; q | p OR q\n",
        "&    | p & q    | p AND q\n",
        "^  | p ^ q | p XOR q (exclusive or)"
      ]
    },
    {
      "cell_type": "markdown",
      "metadata": {
        "id": "EYNVtLBGX_4H"
      },
      "source": [
        "As an example, in the following, we construct a `DataFrame` containing only rows where the name is Arman."
      ]
    },
    {
      "cell_type": "code",
      "execution_count": null,
      "metadata": {
        "id": "iQR7I94ZYA1u"
      },
      "outputs": [],
      "source": [
        "arman_babynames = babynames[babynames['Name'] == 'Arman']\n",
        "arman_babynames.head(5)"
      ]
    },
    {
      "cell_type": "markdown",
      "metadata": {
        "id": "f6Gj8-RqYX6-"
      },
      "source": [
        "<br>\n",
        "\n",
        "---\n",
        "### Question 3c\n",
        "Using a boolean array, select the names in Year 2000 (from `babynames`) that have larger than 3000 counts. Keep all columns from the original `babynames` `DataFrame`.\n",
        "\n",
        "_Note_: Note that compound expressions have to be grouped with parentheses. That is, any time you use `p & q` to filter the `DataFrame`, make sure to use `df[(df[p]) & (df[q])]` or `df.loc[(df[p]) & (df[q])]`.\n",
        "\n",
        "You may use either `[]` or `loc`."
      ]
    },
    {
      "cell_type": "code",
      "execution_count": null,
      "metadata": {
        "id": "Cf_gfpOmYeqo"
      },
      "outputs": [],
      "source": [
        "result = ...\n",
        "result.head()"
      ]
    },
    {
      "cell_type": "markdown",
      "metadata": {
        "id": "62V6QiRbYjmP"
      },
      "source": [
        "### **REVIEW:** `str`\n",
        "\n",
        "`pandas` provides special purpose functions for working with specific common data types such as strings and dates. For example, the code below provides the length of every baby's name from our `babynames` dataset."
      ]
    },
    {
      "cell_type": "code",
      "execution_count": null,
      "metadata": {
        "id": "37xhku3NYurd"
      },
      "outputs": [],
      "source": [
        "babynames['Name'].str.len()"
      ]
    },
    {
      "cell_type": "markdown",
      "metadata": {
        "id": "33a6i-aOYxK_"
      },
      "source": [
        "<br/>\n",
        "\n",
        "---\n",
        "\n",
        "### Question 4a"
      ]
    },
    {
      "cell_type": "markdown",
      "metadata": {
        "id": "XcsSherxY0yG"
      },
      "source": [
        "Add a column to `babynames` named `First Letter` that contains the first letter of each baby's name.\n",
        "\n",
        "Hint: you can index using `.str` similarly to how you'd normally index Python strings. Or, you can use `.str.get` [(documentation here)](https://pandas.pydata.org/docs/reference/api/pandas.Series.str.get.html)."
      ]
    },
    {
      "cell_type": "code",
      "execution_count": null,
      "metadata": {
        "id": "JTNNX5C4Y0gw"
      },
      "outputs": [],
      "source": [
        "...\n",
        "babynames"
      ]
    },
    {
      "cell_type": "markdown",
      "metadata": {
        "id": "9KfGEr29Y4ft"
      },
      "source": [
        "<br/>\n",
        "\n",
        "---\n",
        "\n",
        "### Question 4b"
      ]
    },
    {
      "cell_type": "markdown",
      "metadata": {
        "id": "OQ4pCMj7Y-WO"
      },
      "source": [
        "In 2022, how many babies had names that started with the letter \"A\"?"
      ]
    },
    {
      "cell_type": "code",
      "execution_count": null,
      "metadata": {
        "id": "inCACGQnY_UI"
      },
      "outputs": [],
      "source": [
        "babynames_2022 = ...\n",
        "just_A_names_2022 = ...\n",
        "number_A_names = len(just_A_names_2022)  # you can use len() or .shape[0] to check #row\n",
        "number_A_names"
      ]
    },
    {
      "cell_type": "markdown",
      "metadata": {
        "id": "ZQ_lEQ315lpm"
      },
      "source": [
        "### Wine Reviews dataset\n",
        "\n",
        "In the next few questions, we will use `Wine Reviews dataset` to practice more indexing, selecting, and assigning.\n",
        "\n",
        "For this set of questions, you are free to use any methods that we learn."
      ]
    },
    {
      "cell_type": "code",
      "execution_count": null,
      "metadata": {
        "id": "U7U0tV-76SPI"
      },
      "outputs": [],
      "source": [
        "reviews = pd.read_csv(\"/content/winemag-data-130k-v2.csv\", index_col=0)\n",
        "reviews.head()"
      ]
    },
    {
      "cell_type": "markdown",
      "metadata": {
        "id": "oYvv0BGb6kPt"
      },
      "source": [
        "### Question 5a\n",
        "\n",
        "Select the first value from the `description` column of `reviews`, assigning it to variable `first_description`.\n",
        "\n",
        "The expected answer is\n",
        "```\n",
        "Aromas include tropical fruit, broom, brimstone and dried herb. The palate isn't overly expressive, offering unripened apple, citrus and dried sage alongside brisk acidity.\n",
        "```"
      ]
    },
    {
      "cell_type": "code",
      "execution_count": null,
      "metadata": {
        "id": "TL7R15S66riZ"
      },
      "outputs": [],
      "source": [
        "first_description =  ...\n",
        "first_description"
      ]
    },
    {
      "cell_type": "markdown",
      "metadata": {
        "id": "zqDy5bVf630t"
      },
      "source": [
        "### Question 5b\n",
        "\n",
        "Select the first row of data (the first record) from `reviews`, assigning it to the variable `first_row`."
      ]
    },
    {
      "cell_type": "code",
      "execution_count": null,
      "metadata": {
        "id": "uA-vb-hA68G6"
      },
      "outputs": [],
      "source": [
        "first_row = ...\n",
        "first_row"
      ]
    },
    {
      "cell_type": "markdown",
      "metadata": {
        "id": "oyRY2GCB7UO2"
      },
      "source": [
        "### Question 5c\n",
        "\n",
        "Create a variable `df` containing the `country`, `province`, `region_1`, and `region_2` columns of the records with the index labels `0`, `1`, `10`, and `100`. In other words, generate the following DataFrame:\n",
        "\n",
        "![](https://storage.googleapis.com/kaggle-media/learn/images/FUCGiKP.png)"
      ]
    },
    {
      "cell_type": "code",
      "execution_count": null,
      "metadata": {
        "id": "czc8VVZ67Xep"
      },
      "outputs": [],
      "source": [
        "df = ...\n",
        "df"
      ]
    },
    {
      "cell_type": "markdown",
      "metadata": {
        "id": "ndldhGhw7ePb"
      },
      "source": [
        "### Question 5d\n",
        "\n",
        "Create a variable `df` containing the `country` and `variety` columns of the first 100 records."
      ]
    },
    {
      "cell_type": "code",
      "execution_count": null,
      "metadata": {
        "id": "yUU5ryAE7hWQ"
      },
      "outputs": [],
      "source": [
        "df = ...\n",
        "df"
      ]
    },
    {
      "cell_type": "markdown",
      "metadata": {
        "id": "0IRl95Kz7ihY"
      },
      "source": [
        "### Question 5e\n",
        "\n",
        "Create a DataFrame `italian_wines` containing reviews of wines made in `Italy`"
      ]
    },
    {
      "cell_type": "code",
      "execution_count": null,
      "metadata": {
        "id": "6_wsqkJD7oH6"
      },
      "outputs": [],
      "source": [
        "italian_wines = ...\n",
        "italian_wines"
      ]
    },
    {
      "cell_type": "markdown",
      "metadata": {
        "id": "JZN6lnQY7uTB"
      },
      "source": [
        "### Question 5f\n",
        "\n",
        "Create a DataFrame `top_oceania_wines` containing all reviews with at least 95 points (out of 100) for wines from Australia or New Zealand."
      ]
    },
    {
      "cell_type": "code",
      "execution_count": null,
      "metadata": {
        "id": "ZM3t4FEt7wze"
      },
      "outputs": [],
      "source": [
        "top_oceania_wines = ...\n",
        "top_oceania_wines"
      ]
    },
    {
      "cell_type": "markdown",
      "metadata": {
        "id": "fcWdUrp-8fRy"
      },
      "source": [
        "## More Wine Reviews with useful functions\n",
        "\n",
        "We will continue using wine reviews dataset to practice various useful functions.\n",
        "\n"
      ]
    },
    {
      "cell_type": "code",
      "execution_count": null,
      "metadata": {
        "id": "0NPD6A2U8tIF"
      },
      "outputs": [],
      "source": [
        "#Let's review the wine reviews data again\n",
        "reviews.head()"
      ]
    },
    {
      "cell_type": "markdown",
      "metadata": {
        "id": "fH0O1gEs895d"
      },
      "source": [
        "### Question 6a\n",
        "\n",
        "What is the median of the `points` column in the `reviews` DataFrame? You may find this [documentation](https://pandas.pydata.org/pandas-docs/stable/reference/api/pandas.DataFrame.median.html) useful."
      ]
    },
    {
      "cell_type": "code",
      "execution_count": null,
      "metadata": {
        "id": "FCFE1N1v9LxP"
      },
      "outputs": [],
      "source": [
        "median_points = ...\n",
        "median_points"
      ]
    },
    {
      "cell_type": "markdown",
      "metadata": {
        "id": "vbQkJnbF9TkJ"
      },
      "source": [
        "### Question 6b\n",
        "\n",
        "What countries are represented in the dataset? (Your answer should not include any duplicates.)"
      ]
    },
    {
      "cell_type": "code",
      "execution_count": null,
      "metadata": {
        "id": "Uolk4ghA9YMx"
      },
      "outputs": [],
      "source": [
        "countries = ..."
      ]
    },
    {
      "cell_type": "markdown",
      "metadata": {
        "id": "hI0SBu_R9doi"
      },
      "source": [
        "### Question 6c\n",
        "\n",
        "How often does each country appear in the dataset? Create a Series `reviews_per_country` mapping countries to the count of reviews of wines from that country."
      ]
    },
    {
      "cell_type": "code",
      "execution_count": null,
      "metadata": {
        "id": "hlATjosy9g3v"
      },
      "outputs": [],
      "source": [
        "reviews_per_country = ...\n",
        "reviews_per_country"
      ]
    },
    {
      "cell_type": "markdown",
      "metadata": {
        "id": "KVIJ_Csl9jYv"
      },
      "source": [
        "### Question 6d\n",
        "\n",
        "Create variable `centered_price` containing a version of the `price` column with the mean price subtracted.\n",
        "\n",
        "(Note: this 'centering' transformation is a common preprocessing step before applying various machine learning algorithms.)\n",
        "\n",
        "Output should look something liek this:\n",
        "```\n",
        "0               NaN\n",
        "1        -20.363389\n",
        "            ...    \n",
        "129969    -3.363389\n",
        "129970   -14.363389\n",
        "Name: price, Length: 129971, dtype: float64\n",
        "```"
      ]
    },
    {
      "cell_type": "code",
      "execution_count": null,
      "metadata": {
        "id": "PpzEApkL9phv"
      },
      "outputs": [],
      "source": [
        "centered_price = ...\n",
        "centered_price"
      ]
    },
    {
      "cell_type": "markdown",
      "metadata": {
        "id": "wSstD1ek-FRW"
      },
      "source": [
        "### Question 6e\n",
        "\n",
        "Create a new Series `bargain_wine` containing the points-to-price ratio (points/price) in the dataset sorted from **highest to lowest**.\n",
        "\n",
        "Expected answer:\n",
        "\n",
        "<img src= 'https://drive.google.com/thumbnail?id=1GD9-Ci1ThC9xTmhbqekGocU7dT2pelaF&sz=w1000' height = 400></img>"
      ]
    },
    {
      "cell_type": "code",
      "execution_count": null,
      "metadata": {
        "id": "tWu9qSNn-Ie0"
      },
      "outputs": [],
      "source": [
        "bargain_wine = (reviews['points']/reviews['price']).sort_values(ascending = False)\n",
        "bargain_wine"
      ]
    },
    {
      "cell_type": "markdown",
      "metadata": {
        "id": "KTeFNcPhas3C"
      },
      "source": [
        "### **REVIEW:** `Groupby`\n",
        "\n",
        "- You can `groupby` a specific column, e.g., `country`. This will give you 'DataFrameGroupby' object.\n",
        "- You then will need to aggregate each group using an aggregation function.\n"
      ]
    },
    {
      "cell_type": "markdown",
      "metadata": {
        "id": "wh1xXCqVcUhV"
      },
      "source": [
        "The code below show how to create a `DataFrame` by grouping `country` and calculate the mean of price within group.\n",
        "1. First you grab only 'country' and 'price' columns.\n",
        "2. Then you group y 'country'\n",
        "3. Finally, you call `agg('mean')` or `.mean()`"
      ]
    },
    {
      "cell_type": "code",
      "execution_count": null,
      "metadata": {
        "id": "pAnVi1qSYIht"
      },
      "outputs": [],
      "source": [
        "mean_price_country = reviews[['country','price']].groupby('country').agg('mean') # or .mean()\n",
        "mean_price_country"
      ]
    },
    {
      "cell_type": "markdown",
      "metadata": {
        "id": "brkfa_r0biMV"
      },
      "source": [
        "- You cannot apply `mean` to columns that are not numeric so if you want to apply mean to only numeric columns, you must specify `numeric_only = True`"
      ]
    },
    {
      "cell_type": "code",
      "execution_count": null,
      "metadata": {
        "id": "o-ClfiSmb8S1"
      },
      "outputs": [],
      "source": [
        "mean_country = reviews.groupby('country').agg('mean', numeric_only=True) # or .mean()\n",
        "mean_country"
      ]
    },
    {
      "cell_type": "markdown",
      "metadata": {
        "id": "G1nRj_4zF9c9"
      },
      "source": [
        "### Question 7a\n",
        "\n",
        "What are the minimum prices for each `variety` of wine? Create a `DataFrame` whose index is the `variety` category from the dataset and whose values are the `min`.\n",
        "\n",
        "\n",
        "Expected answer:\n",
        "\n",
        "<img src= 'https://drive.google.com/thumbnail?id=1S_dZ0I1UpWUmORI8L2u_p5q7zmcMOXQd&sz=w1000' height = 400></img>"
      ]
    },
    {
      "cell_type": "code",
      "execution_count": null,
      "metadata": {
        "id": "sNwlRSB2GISc"
      },
      "outputs": [],
      "source": [
        "price_mins =  ...\n",
        "price_mins"
      ]
    },
    {
      "cell_type": "markdown",
      "metadata": {
        "id": "E3UdZjtGCv8Z"
      },
      "source": [
        "### Question 7b\n",
        "\n",
        "Who are the most common wine reviewers in the dataset? Use `.size()` or `.agg('size')` ([documentation](https://pandas.pydata.org/docs/reference/api/pandas.core.groupby.DataFrameGroupBy.size.html)) as an aggregation function to create a `Series` whose index is the `taster_twitter_handle` category from the dataset, and whose values count how many reviews each person wrote.\n",
        "\n",
        "\n",
        "\n",
        "Expected answer:\n",
        "\n",
        "<img src= 'https://drive.google.com/thumbnail?id=1BJtFjhfcTfmSHMErAB1DYN_LDJuW0lbF&sz=w1000' height = 400></img>\n"
      ]
    },
    {
      "cell_type": "code",
      "execution_count": null,
      "metadata": {
        "id": "lHy1XZyYC9d6"
      },
      "outputs": [],
      "source": [
        "reviews_written =\n",
        "reviews_written"
      ]
    },
    {
      "cell_type": "markdown",
      "metadata": {
        "id": "ck0lZik8ZCHZ"
      },
      "source": [
        "# Submission\n",
        "- File -> Download -> Download .ipynb\n",
        "- Upload to MS Teams"
      ]
    }
  ],
  "metadata": {
    "colab": {
      "provenance": []
    },
    "kernelspec": {
      "display_name": "Python 3",
      "name": "python3"
    },
    "language_info": {
      "codemirror_mode": {
        "name": "ipython",
        "version": 3
      },
      "file_extension": ".py",
      "mimetype": "text/x-python",
      "name": "python",
      "nbconvert_exporter": "python",
      "pygments_lexer": "ipython3",
      "version": "3.12.6"
    }
  },
  "nbformat": 4,
  "nbformat_minor": 0
}
